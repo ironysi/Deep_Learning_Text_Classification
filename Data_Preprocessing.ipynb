{
 "cells": [
  {
   "cell_type": "code",
   "execution_count": 5,
   "metadata": {},
   "outputs": [],
   "source": [
    "import pandas as pd\n",
    "import numpy as np\n",
    "\n",
    "# preprocessing\n",
    "from sklearn import preprocessing\n",
    "\n",
    "from keras.preprocessing.text import Tokenizer\n",
    "from keras.preprocessing.sequence import pad_sequences\n",
    "from keras.utils import to_categorical\n",
    "\n",
    "import gensim\n",
    "from gensim.models import Word2Vec\n",
    "from gensim.models.keyedvectors import KeyedVectors\n",
    "from gensim.utils import simple_preprocess\n",
    "\n",
    "# Model\n",
    "from keras.layers import Input, GRU, Dense, GlobalMaxPool1D, Dropout, Embedding\n",
    "from keras.callbacks import EarlyStopping, Callback\n",
    "from keras.optimizers import Adam\n",
    "from keras.models import Model\n",
    "from keras import regularizers"
   ]
  },
  {
   "cell_type": "code",
   "execution_count": 6,
   "metadata": {},
   "outputs": [],
   "source": [
    "train_data = pd.read_csv('data/train.csv')\n",
    "test_data = pd.read_csv('data/test.csv')"
   ]
  },
  {
   "cell_type": "code",
   "execution_count": 7,
   "metadata": {},
   "outputs": [],
   "source": [
    "le = preprocessing.LabelEncoder()\n",
    "labels = le.fit_transform(train_data['author'])\n",
    "\n",
    "val_data = train_data.sample(frac=0.2, random_state=42)\n",
    "train_data = train_data.drop(val_data.index)"
   ]
  },
  {
   "cell_type": "code",
   "execution_count": 8,
   "metadata": {},
   "outputs": [
    {
     "name": "stdout",
     "output_type": "stream",
     "text": [
      "[11, 89, 122, 817, 4, 22, 9, 1, 5591, 81, 28, 6, 443, 2881]\n",
      "\n",
      "\n",
      "[1, 1141, 4657, 3, 1, 408, 16832, 181, 2, 1, 2181, 9344, 3, 3783, 32, 62, 121, 43, 1, 1923]\n",
      "\n",
      "\n",
      "Found 23067 unique tokens.\n"
     ]
    }
   ],
   "source": [
    "texts = train_data.text\n",
    "NUM_WORDS = 20000\n",
    "\n",
    "tokenizer = Tokenizer(num_words=NUM_WORDS, filters='!\"#$%&()*+,-./:;<=>?@[\\\\]^_`{|}~\\t\\n\\'',\n",
    "                      lower=True)\n",
    "tokenizer.fit_on_texts(texts)\n",
    "\n",
    "# transfer sentences into sequences of word indexes\n",
    "sequences_train = tokenizer.texts_to_sequences(texts)\n",
    "sequences_valid = tokenizer.texts_to_sequences(val_data.text)\n",
    "\n",
    "word_index = tokenizer.word_index\n",
    "\n",
    "print(sequences_train[0])\n",
    "print('\\n')\n",
    "print(sequences_valid[0])\n",
    "print('\\n')\n",
    "print('Found %s unique tokens.' % len(word_index))"
   ]
  },
  {
   "cell_type": "code",
   "execution_count": 9,
   "metadata": {},
   "outputs": [
    {
     "name": "stdout",
     "output_type": "stream",
     "text": [
      "Shape of X train: (15663, 861) and X validation tensor: (3916, 861)\n",
      "Shape of label train: (15663, 3)  and validation tensor: (3916, 3)\n"
     ]
    }
   ],
   "source": [
    "X_train = pad_sequences(sequences_train)\n",
    "X_val = pad_sequences(sequences_valid, maxlen=X_train.shape[1])\n",
    "\n",
    "y_train = to_categorical(np.asarray(labels[train_data.index]))\n",
    "y_val = to_categorical(np.asarray(labels[val_data.index]))\n",
    "\n",
    "print('Shape of X train: {0} and X validation tensor: {1}'.format(X_train.shape, X_val.shape) )\n",
    "print('Shape of label train: {0}  and validation tensor: {1}'.format(y_train.shape, y_val.shape) )"
   ]
  },
  {
   "cell_type": "code",
   "execution_count": null,
   "metadata": {},
   "outputs": [],
   "source": []
  },
  {
   "cell_type": "code",
   "execution_count": 10,
   "metadata": {},
   "outputs": [],
   "source": [
    "# Load pretrained word vectors\n",
    "word_vectors = KeyedVectors.load_word2vec_format('data/GoogleNews-vectors-negative300.bin', binary=True)\n",
    "\n",
    "EMBEDDING_DIM = 300\n",
    "\n",
    "# vocab size will be either size of word_index, or Num_words (whichever is smaller)\n",
    "vocabulary_size = min(len(word_index) + 1, NUM_WORDS) \n",
    "\n",
    "embedding_matrix = np.zeros((vocabulary_size, EMBEDDING_DIM))"
   ]
  },
  {
   "cell_type": "code",
   "execution_count": 11,
   "metadata": {},
   "outputs": [],
   "source": [
    "for word, i in word_index.items():\n",
    "    if i>=NUM_WORDS:\n",
    "        continue\n",
    "    try:\n",
    "        # get vector for each word \n",
    "        embedding_vector = word_vectors[word]\n",
    "        # save vector into embedding matrix\n",
    "        embedding_matrix[i] = embedding_vector\n",
    "    except KeyError:\n",
    "        # generate random vector if the word was not found in pretrained vectors\n",
    "        embedding_matrix[i] = np.random.normal(0, np.sqrt(0.25), EMBEDDING_DIM)\n",
    "\n",
    "# to free up some memory\n",
    "del(word_vectors)"
   ]
  },
  {
   "cell_type": "code",
   "execution_count": 12,
   "metadata": {},
   "outputs": [],
   "source": [
    "# create Keras embedding layer\n",
    "# note use of embedding matrix that we previously created as weights \n",
    "embedding_layer = Embedding(vocabulary_size,\n",
    "                            EMBEDDING_DIM,\n",
    "                            weights=[embedding_matrix],\n",
    "                            trainable=True)\n",
    "# 'trainable = false' eliminates 6 000 000 (vocab_size*emb_size) trainable parameters! \n",
    "# (highly recommended for testing purposes)"
   ]
  },
  {
   "cell_type": "code",
   "execution_count": null,
   "metadata": {
    "collapsed": true
   },
   "outputs": [],
   "source": []
  },
  {
   "cell_type": "code",
   "execution_count": 13,
   "metadata": {},
   "outputs": [],
   "source": [
    "inp = Input(shape=(X_train.shape[1],))\n",
    "\n",
    "emb = embedding_layer(inp)\n",
    "gru = GRU(100, activation='relu', return_sequences=True, name='lstm_layer')(emb)\n",
    "maxPool = GlobalMaxPool1D()(gru)\n",
    "drop0 = Dropout(0.3)(maxPool)\n",
    "hidden = Dense(50, activation=\"relu\")(drop0)\n",
    "drop1 = Dropout(0.1)(hidden)\n",
    "output = Dense(3, activation='softmax')(drop1)"
   ]
  },
  {
   "cell_type": "code",
   "execution_count": 14,
   "metadata": {},
   "outputs": [],
   "source": [
    "model = Model(inp, output)\n",
    "\n",
    "adam = Adam(lr=1e-3)\n",
    "\n",
    "model.compile(loss='categorical_crossentropy',\n",
    "              optimizer=adam,\n",
    "              metrics=['acc'])\n",
    "\n",
    "early_stop = EarlyStopping(monitor='val_loss')"
   ]
  },
  {
   "cell_type": "code",
   "execution_count": 15,
   "metadata": {},
   "outputs": [],
   "source": [
    "class LossHistory(Callback):\n",
    "    def on_train_begin(self, logs={}):\n",
    "        self.losses = []\n",
    "\n",
    "    def on_batch_end(self, batch, logs={}):\n",
    "        self.losses.append(logs.get('loss'))\n",
    "        \n",
    "training_history = LossHistory()"
   ]
  },
  {
   "cell_type": "code",
   "execution_count": 16,
   "metadata": {},
   "outputs": [
    {
     "name": "stdout",
     "output_type": "stream",
     "text": [
      "_________________________________________________________________\n",
      "Layer (type)                 Output Shape              Param #   \n",
      "=================================================================\n",
      "input_1 (InputLayer)         (None, 861)               0         \n",
      "_________________________________________________________________\n",
      "embedding_1 (Embedding)      (None, 861, 300)          6000000   \n",
      "_________________________________________________________________\n",
      "lstm_layer (GRU)             (None, 861, 100)          120300    \n",
      "_________________________________________________________________\n",
      "global_max_pooling1d_1 (Glob (None, 100)               0         \n",
      "_________________________________________________________________\n",
      "dropout_1 (Dropout)          (None, 100)               0         \n",
      "_________________________________________________________________\n",
      "dense_1 (Dense)              (None, 50)                5050      \n",
      "_________________________________________________________________\n",
      "dropout_2 (Dropout)          (None, 50)                0         \n",
      "_________________________________________________________________\n",
      "dense_2 (Dense)              (None, 3)                 153       \n",
      "=================================================================\n",
      "Total params: 6,125,503\n",
      "Trainable params: 6,125,503\n",
      "Non-trainable params: 0\n",
      "_________________________________________________________________\n"
     ]
    }
   ],
   "source": [
    "model.summary()"
   ]
  },
  {
   "cell_type": "code",
   "execution_count": null,
   "metadata": {},
   "outputs": [
    {
     "name": "stdout",
     "output_type": "stream",
     "text": [
      "Train on 15663 samples, validate on 3916 samples\n",
      "Epoch 1/10\n",
      "15663/15663 [==============================] - 354s 23ms/step - loss: 1.1161 - acc: 0.3801 - val_loss: 1.0582 - val_acc: 0.4854\n",
      "Epoch 2/10\n",
      "14000/15663 [=========================>....] - ETA: 35s - loss: 1.0466 - acc: 0.4636"
     ]
    }
   ],
   "source": [
    "model.fit(X_train, y_train, batch_size=1000, epochs=10, verbose=1, validation_data=(X_val, y_val),\n",
    "         callbacks=[training_history, early_stop])"
   ]
  },
  {
   "cell_type": "code",
   "execution_count": null,
   "metadata": {},
   "outputs": [],
   "source": [
    "import pickle\n",
    "\n",
    "history = training_history.losses\n",
    "\n",
    "# save callbacks (progress)\n",
    "pickle.dump(history, 'models/GRU_train_callbacks.pickle')\n",
    "\n",
    "# save model as model.json\n",
    "with open(\"models/GRU_model.json\", \"w\") as json_file:\n",
    "    \n",
    "# save weights to HDF5\n",
    "model.save_weights(\"models/GRU_model.h5\")"
   ]
  },
  {
   "cell_type": "code",
   "execution_count": null,
   "metadata": {},
   "outputs": [],
   "source": []
  }
 ],
 "metadata": {
  "kernelspec": {
   "display_name": "Python 3",
   "language": "python",
   "name": "python3"
  },
  "language_info": {
   "codemirror_mode": {
    "name": "ipython",
    "version": 3
   },
   "file_extension": ".py",
   "mimetype": "text/x-python",
   "name": "python",
   "nbconvert_exporter": "python",
   "pygments_lexer": "ipython3",
   "version": "3.5.2"
  }
 },
 "nbformat": 4,
 "nbformat_minor": 2
}
